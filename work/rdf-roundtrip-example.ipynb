{
 "cells": [
  {
   "cell_type": "markdown",
   "metadata": {},
   "source": [
    "# Example of using RDFPandas with Gastrodon"
   ]
  },
  {
   "cell_type": "markdown",
   "metadata": {},
   "source": [
    "## Intro\n",
    "We would ideally want a roundtrip from Pandas DataFrame to RDF and back without loss of types, which is possible in theory. The plan is to evolve rdfpandas to cover all of these cases in include SPARQL magics support for Jupyter."
   ]
  },
  {
   "cell_type": "markdown",
   "metadata": {},
   "source": [
    "## Example"
   ]
  },
  {
   "cell_type": "code",
   "execution_count": 9,
   "metadata": {},
   "outputs": [],
   "source": [
    "import rdfpandas.graph\n",
    "import pandas as pd\n",
    "import rdflib\n",
    "import requests"
   ]
  },
  {
   "cell_type": "code",
   "execution_count": 10,
   "metadata": {},
   "outputs": [
    {
     "data": {
      "text/html": [
       "<div>\n",
       "<style scoped>\n",
       "    .dataframe tbody tr th:only-of-type {\n",
       "        vertical-align: middle;\n",
       "    }\n",
       "\n",
       "    .dataframe tbody tr th {\n",
       "        vertical-align: top;\n",
       "    }\n",
       "\n",
       "    .dataframe thead th {\n",
       "        text-align: right;\n",
       "    }\n",
       "</style>\n",
       "<table border=\"1\" class=\"dataframe\">\n",
       "  <thead>\n",
       "    <tr style=\"text-align: right;\">\n",
       "      <th></th>\n",
       "      <th>http://xmlns.com/foaf/0.1/age</th>\n",
       "      <th>http://xmlns.com/foaf/0.1/firstName</th>\n",
       "      <th>http://xmlns.com/foaf/0.1/lastName</th>\n",
       "    </tr>\n",
       "  </thead>\n",
       "  <tbody>\n",
       "    <tr>\n",
       "      <th>http://www.semanticweblondon.com/1</th>\n",
       "      <td>38</td>\n",
       "      <td>Vicki</td>\n",
       "      <td>Mason</td>\n",
       "    </tr>\n",
       "    <tr>\n",
       "      <th>http://www.semanticweblondon.com/2</th>\n",
       "      <td>36</td>\n",
       "      <td>Brian</td>\n",
       "      <td>Watts</td>\n",
       "    </tr>\n",
       "  </tbody>\n",
       "</table>\n",
       "</div>"
      ],
      "text/plain": [
       "                                    http://xmlns.com/foaf/0.1/age http://xmlns.com/foaf/0.1/firstName  \\\n",
       "http://www.semanticweblondon.com/1                             38                               Vicki   \n",
       "http://www.semanticweblondon.com/2                             36                               Brian   \n",
       "\n",
       "                                   http://xmlns.com/foaf/0.1/lastName  \n",
       "http://www.semanticweblondon.com/1                              Mason  \n",
       "http://www.semanticweblondon.com/2                              Watts  "
      ]
     },
     "execution_count": 10,
     "metadata": {},
     "output_type": "execute_result"
    }
   ],
   "source": [
    "df = pd.DataFrame(data = {\n",
    "        'http://xmlns.com/foaf/0.1/firstName': ['Vicki', 'Brian'], \n",
    "        'http://xmlns.com/foaf/0.1/lastName': ['Mason', 'Watts'], \n",
    "        'http://xmlns.com/foaf/0.1/age': [38, 36],\n",
    "        }, \n",
    "        index=['http://www.semanticweblondon.com/1', 'http://www.semanticweblondon.com/2'])\n",
    "df\n"
   ]
  },
  {
   "cell_type": "code",
   "execution_count": 11,
   "metadata": {},
   "outputs": [
    {
     "data": {
      "text/plain": [
       "b'@prefix ns1: <http://xmlns.com/foaf/0.1/> .\\n@prefix rdf: <http://www.w3.org/1999/02/22-rdf-syntax-ns#> .\\n@prefix rdfs: <http://www.w3.org/2000/01/rdf-schema#> .\\n@prefix xml: <http://www.w3.org/XML/1998/namespace> .\\n@prefix xsd: <http://www.w3.org/2001/XMLSchema#> .\\n\\n<http://www.semanticweblondon.com/1> ns1:age 38 ;\\n    ns1:firstName \"Vicki\" ;\\n    ns1:lastName \"Mason\" .\\n\\n<http://www.semanticweblondon.com/2> ns1:age 36 ;\\n    ns1:firstName \"Brian\" ;\\n    ns1:lastName \"Watts\" .\\n\\n'"
      ]
     },
     "execution_count": 11,
     "metadata": {},
     "output_type": "execute_result"
    }
   ],
   "source": [
    "graph = rdfpandas.graph.to_graph(df)\n",
    "\n",
    "s = graph.serialize(format='turtle')\n",
    "s"
   ]
  },
  {
   "cell_type": "code",
   "execution_count": 12,
   "metadata": {},
   "outputs": [
    {
     "data": {
      "text/plain": [
       "'{ \\n  \"count\" : 6 ,\\n  \"tripleCount\" : 6 ,\\n  \"quadCount\" : 0\\n}\\n\\r\\n'"
      ]
     },
     "execution_count": 12,
     "metadata": {},
     "output_type": "execute_result"
    }
   ],
   "source": [
    "url = 'http://rdf-jupyter_fuseki_1:3030/swl/data?default'\n",
    "files = {'default.ttl': ('default.ttl', s, 'text/turtle')}\n",
    "r = requests.request(method='PUT', url=url, files=files)\n",
    "r.text"
   ]
  },
  {
   "cell_type": "code",
   "execution_count": 13,
   "metadata": {},
   "outputs": [],
   "source": [
    "import sys\n",
    "from os.path import expanduser\n",
    "from gastrodon import RemoteEndpoint,QName,ttl,URIRef,inline\n",
    "import pandas as pd\n",
    "import json\n",
    "pd.options.display.width=120\n",
    "pd.options.display.max_colwidth=100"
   ]
  },
  {
   "cell_type": "code",
   "execution_count": 14,
   "metadata": {},
   "outputs": [],
   "source": [
    "connection_data = json.loads(\n",
    "\"\"\"\n",
    "{\n",
    "    \"url\":\"http://rdf-jupyter_fuseki_1:3030/swl/sparql\",\n",
    "    \"user\":\"admin\",\n",
    "    \"passwd\":\"password\",\n",
    "    \"base_uri\":\"http://www.semanticweblondon.com/\"\n",
    "}\n",
    "\"\"\")"
   ]
  },
  {
   "cell_type": "code",
   "execution_count": 15,
   "metadata": {},
   "outputs": [],
   "source": [
    "endpoint=RemoteEndpoint(**connection_data)"
   ]
  },
  {
   "cell_type": "code",
   "execution_count": 16,
   "metadata": {},
   "outputs": [
    {
     "data": {
      "text/html": [
       "<div>\n",
       "<style scoped>\n",
       "    .dataframe tbody tr th:only-of-type {\n",
       "        vertical-align: middle;\n",
       "    }\n",
       "\n",
       "    .dataframe tbody tr th {\n",
       "        vertical-align: top;\n",
       "    }\n",
       "\n",
       "    .dataframe thead th {\n",
       "        text-align: right;\n",
       "    }\n",
       "</style>\n",
       "<table border=\"1\" class=\"dataframe\">\n",
       "  <thead>\n",
       "    <tr style=\"text-align: right;\">\n",
       "      <th></th>\n",
       "      <th>s</th>\n",
       "      <th>p</th>\n",
       "      <th>o</th>\n",
       "    </tr>\n",
       "  </thead>\n",
       "  <tbody>\n",
       "    <tr>\n",
       "      <th>0</th>\n",
       "      <td>http://www.semanticweblondon.com/1</td>\n",
       "      <td>http://xmlns.com/foaf/0.1/age</td>\n",
       "      <td>38</td>\n",
       "    </tr>\n",
       "    <tr>\n",
       "      <th>1</th>\n",
       "      <td>http://www.semanticweblondon.com/1</td>\n",
       "      <td>http://xmlns.com/foaf/0.1/firstName</td>\n",
       "      <td>Vicki</td>\n",
       "    </tr>\n",
       "    <tr>\n",
       "      <th>2</th>\n",
       "      <td>http://www.semanticweblondon.com/1</td>\n",
       "      <td>http://xmlns.com/foaf/0.1/lastName</td>\n",
       "      <td>Mason</td>\n",
       "    </tr>\n",
       "    <tr>\n",
       "      <th>3</th>\n",
       "      <td>http://www.semanticweblondon.com/2</td>\n",
       "      <td>http://xmlns.com/foaf/0.1/age</td>\n",
       "      <td>36</td>\n",
       "    </tr>\n",
       "    <tr>\n",
       "      <th>4</th>\n",
       "      <td>http://www.semanticweblondon.com/2</td>\n",
       "      <td>http://xmlns.com/foaf/0.1/firstName</td>\n",
       "      <td>Brian</td>\n",
       "    </tr>\n",
       "    <tr>\n",
       "      <th>5</th>\n",
       "      <td>http://www.semanticweblondon.com/2</td>\n",
       "      <td>http://xmlns.com/foaf/0.1/lastName</td>\n",
       "      <td>Watts</td>\n",
       "    </tr>\n",
       "  </tbody>\n",
       "</table>\n",
       "</div>"
      ],
      "text/plain": [
       "                                    s                                    p      o\n",
       "0  http://www.semanticweblondon.com/1        http://xmlns.com/foaf/0.1/age     38\n",
       "1  http://www.semanticweblondon.com/1  http://xmlns.com/foaf/0.1/firstName  Vicki\n",
       "2  http://www.semanticweblondon.com/1   http://xmlns.com/foaf/0.1/lastName  Mason\n",
       "3  http://www.semanticweblondon.com/2        http://xmlns.com/foaf/0.1/age     36\n",
       "4  http://www.semanticweblondon.com/2  http://xmlns.com/foaf/0.1/firstName  Brian\n",
       "5  http://www.semanticweblondon.com/2   http://xmlns.com/foaf/0.1/lastName  Watts"
      ]
     },
     "execution_count": 16,
     "metadata": {},
     "output_type": "execute_result"
    }
   ],
   "source": [
    "df = endpoint.select(\"\"\"\n",
    "select ?s ?p ?o \n",
    "where\n",
    "{\n",
    "   ?s ?p ?o .\n",
    "}\n",
    "\"\"\")\n",
    "df"
   ]
  },
  {
   "cell_type": "code",
   "execution_count": null,
   "metadata": {},
   "outputs": [],
   "source": []
  }
 ],
 "metadata": {
  "kernelspec": {
   "display_name": "Python 3",
   "language": "python",
   "name": "python3"
  },
  "language_info": {
   "codemirror_mode": {
    "name": "ipython",
    "version": 3
   },
   "file_extension": ".py",
   "mimetype": "text/x-python",
   "name": "python",
   "nbconvert_exporter": "python",
   "pygments_lexer": "ipython3",
   "version": "3.6.4"
  }
 },
 "nbformat": 4,
 "nbformat_minor": 2
}
