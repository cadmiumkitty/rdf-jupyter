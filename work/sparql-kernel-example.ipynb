{
 "cells": [
  {
   "cell_type": "markdown",
   "metadata": {},
   "source": [
    "# Example of using SPARQL kernel"
   ]
  },
  {
   "cell_type": "markdown",
   "metadata": {},
   "source": [
    "## Intro\n",
    "Only single type of kernel per notebook is supported by Jupyter at this point, so you can't easily mix data processing and SPARQL queries. Some alternatives include Gastrodon (https://github.com/paulhoule/gastrodon) and iPython SPARQL (https://github.com/baito/ipython_sparql)."
   ]
  },
  {
   "cell_type": "markdown",
   "metadata": {},
   "source": [
    "## Example"
   ]
  },
  {
   "cell_type": "code",
   "execution_count": 2,
   "metadata": {},
   "outputs": [
    {
     "data": {
      "text/html": [
       "<div class=\"krn-spql\"><div class=\"magic\">Endpoint set to: http://rdf-jupyter_fuseki_1:3030/cdl/sparql</div><div class=\"magic\">Display: table<br/>Show Types: on</div><div class=\"magic\">HTTP authentication: ['basic', 'admin', 'password']</div></div>"
      ],
      "text/plain": [
       "Endpoint set to: http://rdf-jupyter_fuseki_1:3030/cdl/sparql\n",
       "Display: table\n",
       "Show Types: on\n",
       "HTTP authentication: ['basic', 'admin', 'password']\n"
      ]
     },
     "metadata": {},
     "output_type": "display_data"
    }
   ],
   "source": [
    "%endpoint http://rdf-jupyter_fuseki_1:3030/cdl/sparql\n",
    "%display table withtypes\n",
    "%auth basic admin password"
   ]
  },
  {
   "cell_type": "code",
   "execution_count": 3,
   "metadata": {},
   "outputs": [
    {
     "data": {
      "text/html": [
       "<div class=\"krn-spql\"><table><tr class=hdr><th>s</th><th>type</th>\n",
       "<th>p</th><th>type</th>\n",
       "<th>o</th><th>type</th></tr><tr class=odd><td class=val><a href=\"http://www.semanticweblondon.com/2\" target=\"_other\">http://www.semanticweblondon.com/2</a></td><td class=typ>uri</td>\n",
       "<td class=val><a href=\"http://xmlns.com/foaf/0.1/lastName\" target=\"_other\">http://xmlns.com/foaf/0.1/lastName</a></td><td class=typ>uri</td>\n",
       "<td class=val>Watts</td><td class=typ>literal, None</td></tr><tr class=even><td class=val><a href=\"http://www.semanticweblondon.com/2\" target=\"_other\">http://www.semanticweblondon.com/2</a></td><td class=typ>uri</td>\n",
       "<td class=val><a href=\"http://xmlns.com/foaf/0.1/age\" target=\"_other\">http://xmlns.com/foaf/0.1/age</a></td><td class=typ>uri</td>\n",
       "<td class=val>36</td><td class=typ>literal, None</td></tr><tr class=odd><td class=val><a href=\"http://www.semanticweblondon.com/2\" target=\"_other\">http://www.semanticweblondon.com/2</a></td><td class=typ>uri</td>\n",
       "<td class=val><a href=\"http://xmlns.com/foaf/0.1/firstName\" target=\"_other\">http://xmlns.com/foaf/0.1/firstName</a></td><td class=typ>uri</td>\n",
       "<td class=val>Brian</td><td class=typ>literal, None</td></tr><tr class=even><td class=val><a href=\"http://www.semanticweblondon.com/1\" target=\"_other\">http://www.semanticweblondon.com/1</a></td><td class=typ>uri</td>\n",
       "<td class=val><a href=\"http://xmlns.com/foaf/0.1/lastName\" target=\"_other\">http://xmlns.com/foaf/0.1/lastName</a></td><td class=typ>uri</td>\n",
       "<td class=val>Mason</td><td class=typ>literal, None</td></tr><tr class=odd><td class=val><a href=\"http://www.semanticweblondon.com/1\" target=\"_other\">http://www.semanticweblondon.com/1</a></td><td class=typ>uri</td>\n",
       "<td class=val><a href=\"http://xmlns.com/foaf/0.1/age\" target=\"_other\">http://xmlns.com/foaf/0.1/age</a></td><td class=typ>uri</td>\n",
       "<td class=val>38</td><td class=typ>literal, None</td></tr><tr class=even><td class=val><a href=\"http://www.semanticweblondon.com/1\" target=\"_other\">http://www.semanticweblondon.com/1</a></td><td class=typ>uri</td>\n",
       "<td class=val><a href=\"http://xmlns.com/foaf/0.1/firstName\" target=\"_other\">http://xmlns.com/foaf/0.1/firstName</a></td><td class=typ>uri</td>\n",
       "<td class=val>Vicki</td><td class=typ>literal, None</td></tr></table><div class=\"tinfo\">Total: 6, Shown: 6</div></div>"
      ]
     },
     "metadata": {},
     "output_type": "display_data"
    }
   ],
   "source": [
    "select ?s ?p ?o \n",
    "where\n",
    "{\n",
    "   ?s ?p ?o .\n",
    "}"
   ]
  }
 ],
 "metadata": {
  "kernelspec": {
   "display_name": "SPARQL",
   "language": "sparql",
   "name": "sparql"
  },
  "language_info": {
   "codemirror_mode": {
    "name": "sparql"
   },
   "mimetype": "application/sparql-query",
   "name": "sparql",
   "pygments_lexer": "sparql-nb"
  }
 },
 "nbformat": 4,
 "nbformat_minor": 2
}
