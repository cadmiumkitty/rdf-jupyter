{
 "cells": [
  {
   "cell_type": "markdown",
   "metadata": {},
   "source": [
    "# Example of using iPython SPARQL"
   ]
  },
  {
   "cell_type": "markdown",
   "metadata": {},
   "source": [
    "## Intro\n",
    "iPython SPARQL provides limited support for SPARQL in Jupyter (no real support for authentication, no DataFrame integration, etc."
   ]
  },
  {
   "cell_type": "markdown",
   "metadata": {},
   "source": [
    "## Example"
   ]
  },
  {
   "cell_type": "code",
   "execution_count": null,
   "metadata": {},
   "outputs": [],
   "source": [
    "%load_ext ipython_sparql"
   ]
  },
  {
   "cell_type": "code",
   "execution_count": 2,
   "metadata": {},
   "outputs": [],
   "source": [
    "%sparql_endpoint http://dbpedia.org/sparql/"
   ]
  },
  {
   "cell_type": "code",
   "execution_count": 3,
   "metadata": {},
   "outputs": [
    {
     "data": {
      "text/html": [
       "<table>\n",
       "<thead>\n",
       "<tr><th>capital                              </th><th style=\"text-align: right;\">  populationTotal</th></tr>\n",
       "</thead>\n",
       "<tbody>\n",
       "<tr><td>http://dbpedia.org/resource/Tirana   </td><td style=\"text-align: right;\">           610070</td></tr>\n",
       "<tr><td>http://dbpedia.org/resource/Reykjavík</td><td style=\"text-align: right;\">           130345</td></tr>\n",
       "</tbody>\n",
       "</table>"
      ],
      "text/plain": [
       "<IPython.core.display.HTML object>"
      ]
     },
     "metadata": {},
     "output_type": "display_data"
    }
   ],
   "source": [
    "%%sparql\n",
    "PREFIX dct: <http://purl.org/dc/terms/>\n",
    "PREFIX dcb: <http://dbpedia.org/resource/Category:>\n",
    "PREFIX dbp: <http://dbpedia.org/property/>\n",
    "\n",
    "SELECT ?capital ?populationTotal WHERE {\n",
    "    ?capital dct:subject dcb:Capitals_in_Europe ;\n",
    "             dbp:populationTotal ?populationTotal .\n",
    "}\n",
    "LIMIT 5"
   ]
  }
 ],
 "metadata": {
  "kernelspec": {
   "display_name": "Python 3",
   "language": "python",
   "name": "python3"
  },
  "language_info": {
   "codemirror_mode": {
    "name": "ipython",
    "version": 3
   },
   "file_extension": ".py",
   "mimetype": "text/x-python",
   "name": "python",
   "nbconvert_exporter": "python",
   "pygments_lexer": "ipython3",
   "version": "3.6.4"
  }
 },
 "nbformat": 4,
 "nbformat_minor": 2
}
