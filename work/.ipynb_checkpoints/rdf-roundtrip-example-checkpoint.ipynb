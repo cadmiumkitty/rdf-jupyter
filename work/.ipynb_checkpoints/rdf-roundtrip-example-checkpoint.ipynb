{
 "cells": [
  {
   "cell_type": "code",
   "execution_count": 1,
   "metadata": {},
   "outputs": [],
   "source": [
    "import rdfpandas.graph\n",
    "import pandas as pd\n",
    "import rdflib"
   ]
  },
  {
   "cell_type": "code",
   "execution_count": 2,
   "metadata": {},
   "outputs": [
    {
     "name": "stdout",
     "output_type": "stream",
     "text": [
      "b'@prefix ns1: <http://xmlns.com/foaf/0.1/> .\\n@prefix rdf: <http://www.w3.org/1999/02/22-rdf-syntax-ns#> .\\n@prefix rdfs: <http://www.w3.org/2000/01/rdf-schema#> .\\n@prefix xml: <http://www.w3.org/XML/1998/namespace> .\\n@prefix xsd: <http://www.w3.org/2001/XMLSchema#> .\\n\\n<http://www.semanticweblondon.com/1> ns1:age 38 ;\\n    ns1:firstName \"Vicki\" ;\\n    ns1:lastName \"Mason\" .\\n\\n<http://www.semanticweblondon.com/2> ns1:age 36 ;\\n    ns1:firstName \"Brian\" ;\\n    ns1:lastName \"Watts\" .\\n\\n'\n"
     ]
    }
   ],
   "source": [
    "df = pd.DataFrame(data = {\n",
    "        'http://xmlns.com/foaf/0.1/firstName': ['Vicki', 'Brian'], \n",
    "        'http://xmlns.com/foaf/0.1/lastName': ['Mason', 'Watts'], \n",
    "        'http://xmlns.com/foaf/0.1/age': [38, 36],\n",
    "        }, \n",
    "        index=['http://www.semanticweblondon.com/1', 'http://www.semanticweblondon.com/2'])\n",
    "\n",
    "graph = rdfpandas.graph.to_graph(df)\n",
    "\n",
    "print(graph.serialize(format='turtle'))"
   ]
  },
  {
   "cell_type": "markdown",
   "metadata": {},
   "source": [
    "HTTP POST to Jena goes here"
   ]
  },
  {
   "cell_type": "code",
   "execution_count": 3,
   "metadata": {},
   "outputs": [],
   "source": [
    "%load_ext autotime\n",
    "import sys\n",
    "from os.path import expanduser\n",
    "from gastrodon import RemoteEndpoint,QName,ttl,URIRef,inline\n",
    "import pandas as pd\n",
    "import json\n",
    "pd.options.display.width=120\n",
    "pd.options.display.max_colwidth=100"
   ]
  },
  {
   "cell_type": "code",
   "execution_count": 4,
   "metadata": {},
   "outputs": [
    {
     "name": "stdout",
     "output_type": "stream",
     "text": [
      "time: 1.26 ms\n"
     ]
    }
   ],
   "source": [
    "connection_data = json.loads(\n",
    "\"\"\"\n",
    "{\n",
    "    \"url\":\"http://rdf-jupyter_fuseki_1:3030/cdl/sparql\",\n",
    "    \"user\":\"admin\",\n",
    "    \"passwd\":\"password\",\n",
    "    \"base_uri\":\"http://www.semanticweblondon.com/\"\n",
    "}\n",
    "\"\"\")"
   ]
  },
  {
   "cell_type": "code",
   "execution_count": 5,
   "metadata": {},
   "outputs": [
    {
     "name": "stdout",
     "output_type": "stream",
     "text": [
      "time: 13.1 ms\n"
     ]
    }
   ],
   "source": [
    "endpoint=RemoteEndpoint(**connection_data)"
   ]
  },
  {
   "cell_type": "code",
   "execution_count": 6,
   "metadata": {},
   "outputs": [
    {
     "data": {
      "text/html": [
       "<div>\n",
       "<style scoped>\n",
       "    .dataframe tbody tr th:only-of-type {\n",
       "        vertical-align: middle;\n",
       "    }\n",
       "\n",
       "    .dataframe tbody tr th {\n",
       "        vertical-align: top;\n",
       "    }\n",
       "\n",
       "    .dataframe thead th {\n",
       "        text-align: right;\n",
       "    }\n",
       "</style>\n",
       "<table border=\"1\" class=\"dataframe\">\n",
       "  <thead>\n",
       "    <tr style=\"text-align: right;\">\n",
       "      <th></th>\n",
       "      <th>s</th>\n",
       "      <th>p</th>\n",
       "      <th>o</th>\n",
       "    </tr>\n",
       "  </thead>\n",
       "  <tbody>\n",
       "  </tbody>\n",
       "</table>\n",
       "</div>"
      ],
      "text/plain": [
       "Empty DataFrame\n",
       "Columns: [s, p, o]\n",
       "Index: []"
      ]
     },
     "execution_count": 6,
     "metadata": {},
     "output_type": "execute_result"
    },
    {
     "name": "stdout",
     "output_type": "stream",
     "text": [
      "time: 1.53 s\n"
     ]
    }
   ],
   "source": [
    "df = endpoint.select(\"\"\"\n",
    "select ?s ?p ?o \n",
    "where\n",
    "{\n",
    "   ?s ?p ?o .\n",
    "}\n",
    "\"\"\")\n",
    "df.head()"
   ]
  }
 ],
 "metadata": {
  "kernelspec": {
   "display_name": "Python 3",
   "language": "python",
   "name": "python3"
  },
  "language_info": {
   "codemirror_mode": {
    "name": "ipython",
    "version": 3
   },
   "file_extension": ".py",
   "mimetype": "text/x-python",
   "name": "python",
   "nbconvert_exporter": "python",
   "pygments_lexer": "ipython3",
   "version": "3.6.4"
  }
 },
 "nbformat": 4,
 "nbformat_minor": 2
}
